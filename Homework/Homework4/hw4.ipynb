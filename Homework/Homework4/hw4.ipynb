{
  "cells": [
    {
      "cell_type": "markdown",
      "metadata": {
        "id": "n0wsjTivUKt4"
      },
      "source": [
        "# Semantic Analysis via Text Classification"
      ]
    },
    {
      "cell_type": "markdown",
      "metadata": {
        "id": "a7aRJRTWUKt5"
      },
      "source": [
        "In this assignment, you will need to implement a review sentiment classification task via\n",
        "[Amazon Fine Food Reviews](https://www.kaggle.com/datasets/snap/amazon-fine-food-reviews). This dataset consists of reviews of fine foods from amazon. The\n",
        "data span a period of more than 10 years, including all ~500,000 reviews up to October 2012.\n",
        "Reviews include product and user information, ratings, and a plain text review. It also includes\n",
        "reviews from all other Amazon categories."
      ]
    },
    {
      "cell_type": "markdown",
      "metadata": {
        "id": "m5_gt9GTUKt6"
      },
      "source": [
        "**Overall steps:** 1. Install/import corresponding packages. 2. Exploratory Data Analysis (EDA). 3.\n",
        "Create labels based on the score, e.g., score>3: positive, score<3: negative. 4. Resampling for\n",
        "imbalanced dataset if needed (Balancing positive and negative reviews). 5. Use 10-20%\n",
        "sub-dataset and split it into training and test. 6. Use Text and created labels as features and\n",
        "ground truth to complete the following tasks.\n",
        "\n",
        "**Task 1 – TFIDF approach for this task.**\n",
        "In this part, please implement the TFIDF based classification by using classical ML methods.\n",
        "\n",
        "**Task 2 – Deep learning for review classification.**\n",
        "In this task, you will need to design your deep learning framework for review\n",
        "classification.\n"
      ]
    },
    {
      "cell_type": "markdown",
      "metadata": {
        "id": "BYFhDpVjUKt6"
      },
      "source": [
        "## Check GPU status"
      ]
    },
    {
      "cell_type": "code",
      "execution_count": 2,
      "metadata": {
        "colab": {
          "base_uri": "https://localhost:8080/"
        },
        "id": "LaGMYrj-UKt6",
        "outputId": "7bc01f6a-6e44-4e31-d9d1-e8ab28d04067"
      },
      "outputs": [
        {
          "output_type": "stream",
          "name": "stdout",
          "text": [
            "Wed Mar  1 15:04:15 2023       \n",
            "+-----------------------------------------------------------------------------+\n",
            "| NVIDIA-SMI 525.85.12    Driver Version: 525.85.12    CUDA Version: 12.0     |\n",
            "|-------------------------------+----------------------+----------------------+\n",
            "| GPU  Name        Persistence-M| Bus-Id        Disp.A | Volatile Uncorr. ECC |\n",
            "| Fan  Temp  Perf  Pwr:Usage/Cap|         Memory-Usage | GPU-Util  Compute M. |\n",
            "|                               |                      |               MIG M. |\n",
            "|===============================+======================+======================|\n",
            "|   0  Tesla T4            Off  | 00000000:00:04.0 Off |                    0 |\n",
            "| N/A   64C    P0    30W /  70W |      0MiB / 15360MiB |      0%      Default |\n",
            "|                               |                      |                  N/A |\n",
            "+-------------------------------+----------------------+----------------------+\n",
            "                                                                               \n",
            "+-----------------------------------------------------------------------------+\n",
            "| Processes:                                                                  |\n",
            "|  GPU   GI   CI        PID   Type   Process name                  GPU Memory |\n",
            "|        ID   ID                                                   Usage      |\n",
            "|=============================================================================|\n",
            "|  No running processes found                                                 |\n",
            "+-----------------------------------------------------------------------------+\n"
          ]
        }
      ],
      "source": [
        "!nvidia-smi"
      ]
    },
    {
      "cell_type": "code",
      "execution_count": 3,
      "metadata": {
        "colab": {
          "base_uri": "https://localhost:8080/"
        },
        "id": "QKXEPqYdUdwz",
        "outputId": "d3fc6b2c-d053-4d1d-ad3a-7040ee394e81"
      },
      "outputs": [
        {
          "output_type": "stream",
          "name": "stdout",
          "text": [
            "Looking in indexes: https://pypi.org/simple, https://us-python.pkg.dev/colab-wheels/public/simple/\n",
            "Collecting transformers\n",
            "  Downloading transformers-4.26.1-py3-none-any.whl (6.3 MB)\n",
            "\u001b[2K     \u001b[90m━━━━━━━━━━━━━━━━━━━━━━━━━━━━━━━━━━━━━━━━\u001b[0m \u001b[32m6.3/6.3 MB\u001b[0m \u001b[31m17.2 MB/s\u001b[0m eta \u001b[36m0:00:00\u001b[0m\n",
            "\u001b[?25hRequirement already satisfied: requests in /usr/local/lib/python3.8/dist-packages (from transformers) (2.25.1)\n",
            "Collecting huggingface-hub<1.0,>=0.11.0\n",
            "  Downloading huggingface_hub-0.12.1-py3-none-any.whl (190 kB)\n",
            "\u001b[2K     \u001b[90m━━━━━━━━━━━━━━━━━━━━━━━━━━━━━━━━━━━━━━━\u001b[0m \u001b[32m190.3/190.3 KB\u001b[0m \u001b[31m2.4 MB/s\u001b[0m eta \u001b[36m0:00:00\u001b[0m\n",
            "\u001b[?25hCollecting tokenizers!=0.11.3,<0.14,>=0.11.1\n",
            "  Downloading tokenizers-0.13.2-cp38-cp38-manylinux_2_17_x86_64.manylinux2014_x86_64.whl (7.6 MB)\n",
            "\u001b[2K     \u001b[90m━━━━━━━━━━━━━━━━━━━━━━━━━━━━━━━━━━━━━━━━\u001b[0m \u001b[32m7.6/7.6 MB\u001b[0m \u001b[31m33.2 MB/s\u001b[0m eta \u001b[36m0:00:00\u001b[0m\n",
            "\u001b[?25hRequirement already satisfied: tqdm>=4.27 in /usr/local/lib/python3.8/dist-packages (from transformers) (4.64.1)\n",
            "Requirement already satisfied: filelock in /usr/local/lib/python3.8/dist-packages (from transformers) (3.9.0)\n",
            "Requirement already satisfied: regex!=2019.12.17 in /usr/local/lib/python3.8/dist-packages (from transformers) (2022.6.2)\n",
            "Requirement already satisfied: packaging>=20.0 in /usr/local/lib/python3.8/dist-packages (from transformers) (23.0)\n",
            "Requirement already satisfied: pyyaml>=5.1 in /usr/local/lib/python3.8/dist-packages (from transformers) (6.0)\n",
            "Requirement already satisfied: numpy>=1.17 in /usr/local/lib/python3.8/dist-packages (from transformers) (1.22.4)\n",
            "Requirement already satisfied: typing-extensions>=3.7.4.3 in /usr/local/lib/python3.8/dist-packages (from huggingface-hub<1.0,>=0.11.0->transformers) (4.5.0)\n",
            "Requirement already satisfied: chardet<5,>=3.0.2 in /usr/local/lib/python3.8/dist-packages (from requests->transformers) (4.0.0)\n",
            "Requirement already satisfied: urllib3<1.27,>=1.21.1 in /usr/local/lib/python3.8/dist-packages (from requests->transformers) (1.26.14)\n",
            "Requirement already satisfied: certifi>=2017.4.17 in /usr/local/lib/python3.8/dist-packages (from requests->transformers) (2022.12.7)\n",
            "Requirement already satisfied: idna<3,>=2.5 in /usr/local/lib/python3.8/dist-packages (from requests->transformers) (2.10)\n",
            "Installing collected packages: tokenizers, huggingface-hub, transformers\n",
            "Successfully installed huggingface-hub-0.12.1 tokenizers-0.13.2 transformers-4.26.1\n"
          ]
        }
      ],
      "source": [
        "!pip install transformers"
      ]
    },
    {
      "cell_type": "markdown",
      "metadata": {
        "id": "FQB-riXjUKt7"
      },
      "source": [
        "## Import packages"
      ]
    },
    {
      "cell_type": "code",
      "execution_count": 4,
      "metadata": {
        "colab": {
          "base_uri": "https://localhost:8080/"
        },
        "id": "A6XVXZ5jUKt7",
        "outputId": "48508749-0c22-47aa-980e-0f88af93382a"
      },
      "outputs": [
        {
          "output_type": "stream",
          "name": "stderr",
          "text": [
            "[nltk_data] Downloading package stopwords to /root/nltk_data...\n",
            "[nltk_data]   Unzipping corpora/stopwords.zip.\n",
            "[nltk_data] Downloading package punkt to /root/nltk_data...\n",
            "[nltk_data]   Unzipping tokenizers/punkt.zip.\n",
            "[nltk_data] Downloading package wordnet to /root/nltk_data...\n",
            "[nltk_data] Downloading package omw-1.4 to /root/nltk_data...\n"
          ]
        },
        {
          "output_type": "execute_result",
          "data": {
            "text/plain": [
              "True"
            ]
          },
          "metadata": {},
          "execution_count": 4
        }
      ],
      "source": [
        "import torch\n",
        "from transformers.file_utils import is_tf_available, is_torch_available, is_torch_tpu_available\n",
        "from transformers import BertTokenizerFast, BertForSequenceClassification\n",
        "from transformers import Trainer, TrainingArguments\n",
        "from torch import nn\n",
        "from torch.autograd import Variable\n",
        "from torch.utils.data import DataLoader\n",
        "import numpy as np\n",
        "import pandas as pd\n",
        "import random\n",
        "from sklearn.model_selection import train_test_split\n",
        "import seaborn as sns\n",
        "import matplotlib.pyplot as plt\n",
        "import re\n",
        "import scipy\n",
        "import nltk\n",
        "from sklearn.preprocessing import LabelBinarizer\n",
        "from nltk.corpus import stopwords\n",
        "from nltk.stem.porter import PorterStemmer\n",
        "from nltk.stem import WordNetLemmatizer\n",
        "from nltk.tokenize import word_tokenize,sent_tokenize\n",
        "import string\n",
        "import time\n",
        "nltk.download('stopwords')\n",
        "nltk.download('punkt')\n",
        "nltk.download('wordnet')\n",
        "nltk.download('omw-1.4')"
      ]
    },
    {
      "cell_type": "markdown",
      "metadata": {
        "id": "LenvW9FlUKt8"
      },
      "source": [
        "## Read data"
      ]
    },
    {
      "cell_type": "code",
      "execution_count": 5,
      "metadata": {
        "id": "etkGlLOIUKt8"
      },
      "outputs": [],
      "source": [
        "data=pd.read_csv('https://web.cs.wpi.edu/~kmlee/data/Reviews.csv')\n"
      ]
    },
    {
      "cell_type": "markdown",
      "metadata": {
        "id": "Ukq5jmKpUKt8"
      },
      "source": [
        "## EDA (Exploratory Data Analysis)"
      ]
    },
    {
      "cell_type": "code",
      "execution_count": 6,
      "metadata": {
        "colab": {
          "base_uri": "https://localhost:8080/"
        },
        "id": "f9PCcO7oUKt8",
        "outputId": "4c79b462-9f1d-424a-c5aa-17deb56a3d56"
      },
      "outputs": [
        {
          "output_type": "stream",
          "name": "stdout",
          "text": [
            "<class 'pandas.core.frame.DataFrame'>\n",
            "RangeIndex: 568454 entries, 0 to 568453\n",
            "Data columns (total 10 columns):\n",
            " #   Column                  Non-Null Count   Dtype \n",
            "---  ------                  --------------   ----- \n",
            " 0   Id                      568454 non-null  int64 \n",
            " 1   ProductId               568454 non-null  object\n",
            " 2   UserId                  568454 non-null  object\n",
            " 3   ProfileName             568438 non-null  object\n",
            " 4   HelpfulnessNumerator    568454 non-null  int64 \n",
            " 5   HelpfulnessDenominator  568454 non-null  int64 \n",
            " 6   Score                   568454 non-null  int64 \n",
            " 7   Time                    568454 non-null  int64 \n",
            " 8   Summary                 568427 non-null  object\n",
            " 9   Text                    568454 non-null  object\n",
            "dtypes: int64(5), object(5)\n",
            "memory usage: 43.4+ MB\n"
          ]
        }
      ],
      "source": [
        "data.info()"
      ]
    },
    {
      "cell_type": "code",
      "execution_count": 7,
      "metadata": {
        "colab": {
          "base_uri": "https://localhost:8080/",
          "height": 337
        },
        "id": "AzdhfLkgUKt8",
        "outputId": "a50df031-c9ea-4b45-a416-6011b5ee3c78"
      },
      "outputs": [
        {
          "output_type": "execute_result",
          "data": {
            "text/plain": [
              "   Id   ProductId          UserId                      ProfileName  \\\n",
              "0   1  B001E4KFG0  A3SGXH7AUHU8GW                       delmartian   \n",
              "1   2  B00813GRG4  A1D87F6ZCVE5NK                           dll pa   \n",
              "2   3  B000LQOCH0   ABXLMWJIXXAIN  Natalia Corres \"Natalia Corres\"   \n",
              "3   4  B000UA0QIQ  A395BORC6FGVXV                             Karl   \n",
              "4   5  B006K2ZZ7K  A1UQRSCLF8GW1T    Michael D. Bigham \"M. Wassir\"   \n",
              "\n",
              "   HelpfulnessNumerator  HelpfulnessDenominator  Score        Time  \\\n",
              "0                     1                       1      5  1303862400   \n",
              "1                     0                       0      1  1346976000   \n",
              "2                     1                       1      4  1219017600   \n",
              "3                     3                       3      2  1307923200   \n",
              "4                     0                       0      5  1350777600   \n",
              "\n",
              "                 Summary                                               Text  \n",
              "0  Good Quality Dog Food  I have bought several of the Vitality canned d...  \n",
              "1      Not as Advertised  Product arrived labeled as Jumbo Salted Peanut...  \n",
              "2  \"Delight\" says it all  This is a confection that has been around a fe...  \n",
              "3         Cough Medicine  If you are looking for the secret ingredient i...  \n",
              "4            Great taffy  Great taffy at a great price.  There was a wid...  "
            ],
            "text/html": [
              "\n",
              "  <div id=\"df-b61bee00-2ab2-4cde-9d43-b2e74ddc943a\">\n",
              "    <div class=\"colab-df-container\">\n",
              "      <div>\n",
              "<style scoped>\n",
              "    .dataframe tbody tr th:only-of-type {\n",
              "        vertical-align: middle;\n",
              "    }\n",
              "\n",
              "    .dataframe tbody tr th {\n",
              "        vertical-align: top;\n",
              "    }\n",
              "\n",
              "    .dataframe thead th {\n",
              "        text-align: right;\n",
              "    }\n",
              "</style>\n",
              "<table border=\"1\" class=\"dataframe\">\n",
              "  <thead>\n",
              "    <tr style=\"text-align: right;\">\n",
              "      <th></th>\n",
              "      <th>Id</th>\n",
              "      <th>ProductId</th>\n",
              "      <th>UserId</th>\n",
              "      <th>ProfileName</th>\n",
              "      <th>HelpfulnessNumerator</th>\n",
              "      <th>HelpfulnessDenominator</th>\n",
              "      <th>Score</th>\n",
              "      <th>Time</th>\n",
              "      <th>Summary</th>\n",
              "      <th>Text</th>\n",
              "    </tr>\n",
              "  </thead>\n",
              "  <tbody>\n",
              "    <tr>\n",
              "      <th>0</th>\n",
              "      <td>1</td>\n",
              "      <td>B001E4KFG0</td>\n",
              "      <td>A3SGXH7AUHU8GW</td>\n",
              "      <td>delmartian</td>\n",
              "      <td>1</td>\n",
              "      <td>1</td>\n",
              "      <td>5</td>\n",
              "      <td>1303862400</td>\n",
              "      <td>Good Quality Dog Food</td>\n",
              "      <td>I have bought several of the Vitality canned d...</td>\n",
              "    </tr>\n",
              "    <tr>\n",
              "      <th>1</th>\n",
              "      <td>2</td>\n",
              "      <td>B00813GRG4</td>\n",
              "      <td>A1D87F6ZCVE5NK</td>\n",
              "      <td>dll pa</td>\n",
              "      <td>0</td>\n",
              "      <td>0</td>\n",
              "      <td>1</td>\n",
              "      <td>1346976000</td>\n",
              "      <td>Not as Advertised</td>\n",
              "      <td>Product arrived labeled as Jumbo Salted Peanut...</td>\n",
              "    </tr>\n",
              "    <tr>\n",
              "      <th>2</th>\n",
              "      <td>3</td>\n",
              "      <td>B000LQOCH0</td>\n",
              "      <td>ABXLMWJIXXAIN</td>\n",
              "      <td>Natalia Corres \"Natalia Corres\"</td>\n",
              "      <td>1</td>\n",
              "      <td>1</td>\n",
              "      <td>4</td>\n",
              "      <td>1219017600</td>\n",
              "      <td>\"Delight\" says it all</td>\n",
              "      <td>This is a confection that has been around a fe...</td>\n",
              "    </tr>\n",
              "    <tr>\n",
              "      <th>3</th>\n",
              "      <td>4</td>\n",
              "      <td>B000UA0QIQ</td>\n",
              "      <td>A395BORC6FGVXV</td>\n",
              "      <td>Karl</td>\n",
              "      <td>3</td>\n",
              "      <td>3</td>\n",
              "      <td>2</td>\n",
              "      <td>1307923200</td>\n",
              "      <td>Cough Medicine</td>\n",
              "      <td>If you are looking for the secret ingredient i...</td>\n",
              "    </tr>\n",
              "    <tr>\n",
              "      <th>4</th>\n",
              "      <td>5</td>\n",
              "      <td>B006K2ZZ7K</td>\n",
              "      <td>A1UQRSCLF8GW1T</td>\n",
              "      <td>Michael D. Bigham \"M. Wassir\"</td>\n",
              "      <td>0</td>\n",
              "      <td>0</td>\n",
              "      <td>5</td>\n",
              "      <td>1350777600</td>\n",
              "      <td>Great taffy</td>\n",
              "      <td>Great taffy at a great price.  There was a wid...</td>\n",
              "    </tr>\n",
              "  </tbody>\n",
              "</table>\n",
              "</div>\n",
              "      <button class=\"colab-df-convert\" onclick=\"convertToInteractive('df-b61bee00-2ab2-4cde-9d43-b2e74ddc943a')\"\n",
              "              title=\"Convert this dataframe to an interactive table.\"\n",
              "              style=\"display:none;\">\n",
              "        \n",
              "  <svg xmlns=\"http://www.w3.org/2000/svg\" height=\"24px\"viewBox=\"0 0 24 24\"\n",
              "       width=\"24px\">\n",
              "    <path d=\"M0 0h24v24H0V0z\" fill=\"none\"/>\n",
              "    <path d=\"M18.56 5.44l.94 2.06.94-2.06 2.06-.94-2.06-.94-.94-2.06-.94 2.06-2.06.94zm-11 1L8.5 8.5l.94-2.06 2.06-.94-2.06-.94L8.5 2.5l-.94 2.06-2.06.94zm10 10l.94 2.06.94-2.06 2.06-.94-2.06-.94-.94-2.06-.94 2.06-2.06.94z\"/><path d=\"M17.41 7.96l-1.37-1.37c-.4-.4-.92-.59-1.43-.59-.52 0-1.04.2-1.43.59L10.3 9.45l-7.72 7.72c-.78.78-.78 2.05 0 2.83L4 21.41c.39.39.9.59 1.41.59.51 0 1.02-.2 1.41-.59l7.78-7.78 2.81-2.81c.8-.78.8-2.07 0-2.86zM5.41 20L4 18.59l7.72-7.72 1.47 1.35L5.41 20z\"/>\n",
              "  </svg>\n",
              "      </button>\n",
              "      \n",
              "  <style>\n",
              "    .colab-df-container {\n",
              "      display:flex;\n",
              "      flex-wrap:wrap;\n",
              "      gap: 12px;\n",
              "    }\n",
              "\n",
              "    .colab-df-convert {\n",
              "      background-color: #E8F0FE;\n",
              "      border: none;\n",
              "      border-radius: 50%;\n",
              "      cursor: pointer;\n",
              "      display: none;\n",
              "      fill: #1967D2;\n",
              "      height: 32px;\n",
              "      padding: 0 0 0 0;\n",
              "      width: 32px;\n",
              "    }\n",
              "\n",
              "    .colab-df-convert:hover {\n",
              "      background-color: #E2EBFA;\n",
              "      box-shadow: 0px 1px 2px rgba(60, 64, 67, 0.3), 0px 1px 3px 1px rgba(60, 64, 67, 0.15);\n",
              "      fill: #174EA6;\n",
              "    }\n",
              "\n",
              "    [theme=dark] .colab-df-convert {\n",
              "      background-color: #3B4455;\n",
              "      fill: #D2E3FC;\n",
              "    }\n",
              "\n",
              "    [theme=dark] .colab-df-convert:hover {\n",
              "      background-color: #434B5C;\n",
              "      box-shadow: 0px 1px 3px 1px rgba(0, 0, 0, 0.15);\n",
              "      filter: drop-shadow(0px 1px 2px rgba(0, 0, 0, 0.3));\n",
              "      fill: #FFFFFF;\n",
              "    }\n",
              "  </style>\n",
              "\n",
              "      <script>\n",
              "        const buttonEl =\n",
              "          document.querySelector('#df-b61bee00-2ab2-4cde-9d43-b2e74ddc943a button.colab-df-convert');\n",
              "        buttonEl.style.display =\n",
              "          google.colab.kernel.accessAllowed ? 'block' : 'none';\n",
              "\n",
              "        async function convertToInteractive(key) {\n",
              "          const element = document.querySelector('#df-b61bee00-2ab2-4cde-9d43-b2e74ddc943a');\n",
              "          const dataTable =\n",
              "            await google.colab.kernel.invokeFunction('convertToInteractive',\n",
              "                                                     [key], {});\n",
              "          if (!dataTable) return;\n",
              "\n",
              "          const docLinkHtml = 'Like what you see? Visit the ' +\n",
              "            '<a target=\"_blank\" href=https://colab.research.google.com/notebooks/data_table.ipynb>data table notebook</a>'\n",
              "            + ' to learn more about interactive tables.';\n",
              "          element.innerHTML = '';\n",
              "          dataTable['output_type'] = 'display_data';\n",
              "          await google.colab.output.renderOutput(dataTable, element);\n",
              "          const docLink = document.createElement('div');\n",
              "          docLink.innerHTML = docLinkHtml;\n",
              "          element.appendChild(docLink);\n",
              "        }\n",
              "      </script>\n",
              "    </div>\n",
              "  </div>\n",
              "  "
            ]
          },
          "metadata": {},
          "execution_count": 7
        }
      ],
      "source": [
        "data.head(5)"
      ]
    },
    {
      "cell_type": "code",
      "execution_count": 8,
      "metadata": {
        "colab": {
          "base_uri": "https://localhost:8080/"
        },
        "id": "CRQyj_mOUKt8",
        "outputId": "7f6723b6-7ee5-4b40-dc9c-09d7dda37e61"
      },
      "outputs": [
        {
          "output_type": "execute_result",
          "data": {
            "text/plain": [
              "5    363122\n",
              "4     80655\n",
              "1     52268\n",
              "3     42640\n",
              "2     29769\n",
              "Name: Score, dtype: int64"
            ]
          },
          "metadata": {},
          "execution_count": 8
        }
      ],
      "source": [
        "data.Score.value_counts()"
      ]
    },
    {
      "cell_type": "code",
      "execution_count": 9,
      "metadata": {
        "colab": {
          "base_uri": "https://localhost:8080/",
          "height": 621
        },
        "id": "ANm3lDoFUKt9",
        "outputId": "bfd0e7c8-bdc6-4a04-cc12-b3053e589c22"
      },
      "outputs": [
        {
          "output_type": "display_data",
          "data": {
            "text/plain": [
              "<Figure size 1080x720 with 1 Axes>"
            ],
            "image/png": "[encoded data removed]"
          },
          "metadata": {
            "needs_background": "light"
          }
        }
      ],
      "source": [
        "plt.figure(figsize=(15,10))\n",
        "sns.countplot(\n",
        "  x='Score',\n",
        "  data=data,\n",
        "  order=data.Score.value_counts().index\n",
        ")\n",
        "plt.xlabel(\"type\")\n",
        "plt.title(\"Review type\");"
      ]
    },
    {
      "cell_type": "markdown",
      "metadata": {
        "id": "NiRrsa4hUKt9"
      },
      "source": [
        "## Create labels based on the score"
      ]
    },
    {
      "cell_type": "markdown",
      "metadata": {
        "id": "vDhgRgQwUKt9"
      },
      "source": [
        "### Positive: (4, 5)         Negative: (1, 2, 3)"
      ]
    },
    {
      "cell_type": "code",
      "execution_count": 13,
      "metadata": {
        "id": "TAyF_L9JUKt9"
      },
      "outputs": [],
      "source": [
        "data[\"review_type\"] = data[\"Score\"].apply(lambda x: \"negative\" if x < 4 else \"positive\")"
      ]
    },
    {
      "cell_type": "code",
      "execution_count": 14,
      "metadata": {
        "colab": {
          "base_uri": "https://localhost:8080/",
          "height": 424
        },
        "id": "hk7fZx5cUKt9",
        "outputId": "c106183c-c94f-416d-9fb9-a7a37e3a4edd"
      },
      "outputs": [
        {
          "output_type": "execute_result",
          "data": {
            "text/plain": [
              "   Id   ProductId          UserId                      ProfileName  \\\n",
              "0   1  B001E4KFG0  A3SGXH7AUHU8GW                       delmartian   \n",
              "1   2  B00813GRG4  A1D87F6ZCVE5NK                           dll pa   \n",
              "2   3  B000LQOCH0   ABXLMWJIXXAIN  Natalia Corres \"Natalia Corres\"   \n",
              "3   4  B000UA0QIQ  A395BORC6FGVXV                             Karl   \n",
              "4   5  B006K2ZZ7K  A1UQRSCLF8GW1T    Michael D. Bigham \"M. Wassir\"   \n",
              "\n",
              "   HelpfulnessNumerator  HelpfulnessDenominator  Score        Time  \\\n",
              "0                     1                       1      5  1303862400   \n",
              "1                     0                       0      1  1346976000   \n",
              "2                     1                       1      4  1219017600   \n",
              "3                     3                       3      2  1307923200   \n",
              "4                     0                       0      5  1350777600   \n",
              "\n",
              "                 Summary                                               Text  \\\n",
              "0  Good Quality Dog Food  I have bought several of the Vitality canned d...   \n",
              "1      Not as Advertised  Product arrived labeled as Jumbo Salted Peanut...   \n",
              "2  \"Delight\" says it all  This is a confection that has been around a fe...   \n",
              "3         Cough Medicine  If you are looking for the secret ingredient i...   \n",
              "4            Great taffy  Great taffy at a great price.  There was a wid...   \n",
              "\n",
              "  review_type  \n",
              "0    positive  \n",
              "1    negative  \n",
              "2    positive  \n",
              "3    negative  \n",
              "4    positive  "
            ],
            "text/html": [
              "\n",
              "  <div id=\"df-6247daab-8b22-4698-a5df-595993231da3\">\n",
              "    <div class=\"colab-df-container\">\n",
              "      <div>\n",
              "<style scoped>\n",
              "    .dataframe tbody tr th:only-of-type {\n",
              "        vertical-align: middle;\n",
              "    }\n",
              "\n",
              "    .dataframe tbody tr th {\n",
              "        vertical-align: top;\n",
              "    }\n",
              "\n",
              "    .dataframe thead th {\n",
              "        text-align: right;\n",
              "    }\n",
              "</style>\n",
              "<table border=\"1\" class=\"dataframe\">\n",
              "  <thead>\n",
              "    <tr style=\"text-align: right;\">\n",
              "      <th></th>\n",
              "      <th>Id</th>\n",
              "      <th>ProductId</th>\n",
              "      <th>UserId</th>\n",
              "      <th>ProfileName</th>\n",
              "      <th>HelpfulnessNumerator</th>\n",
              "      <th>HelpfulnessDenominator</th>\n",
              "      <th>Score</th>\n",
              "      <th>Time</th>\n",
              "      <th>Summary</th>\n",
              "      <th>Text</th>\n",
              "      <th>review_type</th>\n",
              "    </tr>\n",
              "  </thead>\n",
              "  <tbody>\n",
              "    <tr>\n",
              "      <th>0</th>\n",
              "      <td>1</td>\n",
              "      <td>B001E4KFG0</td>\n",
              "      <td>A3SGXH7AUHU8GW</td>\n",
              "      <td>delmartian</td>\n",
              "      <td>1</td>\n",
              "      <td>1</td>\n",
              "      <td>5</td>\n",
              "      <td>1303862400</td>\n",
              "      <td>Good Quality Dog Food</td>\n",
              "      <td>I have bought several of the Vitality canned d...</td>\n",
              "      <td>positive</td>\n",
              "    </tr>\n",
              "    <tr>\n",
              "      <th>1</th>\n",
              "      <td>2</td>\n",
              "      <td>B00813GRG4</td>\n",
              "      <td>A1D87F6ZCVE5NK</td>\n",
              "      <td>dll pa</td>\n",
              "      <td>0</td>\n",
              "      <td>0</td>\n",
              "      <td>1</td>\n",
              "      <td>1346976000</td>\n",
              "      <td>Not as Advertised</td>\n",
              "      <td>Product arrived labeled as Jumbo Salted Peanut...</td>\n",
              "      <td>negative</td>\n",
              "    </tr>\n",
              "    <tr>\n",
              "      <th>2</th>\n",
              "      <td>3</td>\n",
              "      <td>B000LQOCH0</td>\n",
              "      <td>ABXLMWJIXXAIN</td>\n",
              "      <td>Natalia Corres \"Natalia Corres\"</td>\n",
              "      <td>1</td>\n",
              "      <td>1</td>\n",
              "      <td>4</td>\n",
              "      <td>1219017600</td>\n",
              "      <td>\"Delight\" says it all</td>\n",
              "      <td>This is a confection that has been around a fe...</td>\n",
              "      <td>positive</td>\n",
              "    </tr>\n",
              "    <tr>\n",
              "      <th>3</th>\n",
              "      <td>4</td>\n",
              "      <td>B000UA0QIQ</td>\n",
              "      <td>A395BORC6FGVXV</td>\n",
              "      <td>Karl</td>\n",
              "      <td>3</td>\n",
              "      <td>3</td>\n",
              "      <td>2</td>\n",
              "      <td>1307923200</td>\n",
              "      <td>Cough Medicine</td>\n",
              "      <td>If you are looking for the secret ingredient i...</td>\n",
              "      <td>negative</td>\n",
              "    </tr>\n",
              "    <tr>\n",
              "      <th>4</th>\n",
              "      <td>5</td>\n",
              "      <td>B006K2ZZ7K</td>\n",
              "      <td>A1UQRSCLF8GW1T</td>\n",
              "      <td>Michael D. Bigham \"M. Wassir\"</td>\n",
              "      <td>0</td>\n",
              "      <td>0</td>\n",
              "      <td>5</td>\n",
              "      <td>1350777600</td>\n",
              "      <td>Great taffy</td>\n",
              "      <td>Great taffy at a great price.  There was a wid...</td>\n",
              "      <td>positive</td>\n",
              "    </tr>\n",
              "  </tbody>\n",
              "</table>\n",
              "</div>\n",
              "      <button class=\"colab-df-convert\" onclick=\"convertToInteractive('df-6247daab-8b22-4698-a5df-595993231da3')\"\n",
              "              title=\"Convert this dataframe to an interactive table.\"\n",
              "              style=\"display:none;\">\n",
              "        \n",
              "  <svg xmlns=\"http://www.w3.org/2000/svg\" height=\"24px\"viewBox=\"0 0 24 24\"\n",
              "       width=\"24px\">\n",
              "    <path d=\"M0 0h24v24H0V0z\" fill=\"none\"/>\n",
              "    <path d=\"M18.56 5.44l.94 2.06.94-2.06 2.06-.94-2.06-.94-.94-2.06-.94 2.06-2.06.94zm-11 1L8.5 8.5l.94-2.06 2.06-.94-2.06-.94L8.5 2.5l-.94 2.06-2.06.94zm10 10l.94 2.06.94-2.06 2.06-.94-2.06-.94-.94-2.06-.94 2.06-2.06.94z\"/><path d=\"M17.41 7.96l-1.37-1.37c-.4-.4-.92-.59-1.43-.59-.52 0-1.04.2-1.43.59L10.3 9.45l-7.72 7.72c-.78.78-.78 2.05 0 2.83L4 21.41c.39.39.9.59 1.41.59.51 0 1.02-.2 1.41-.59l7.78-7.78 2.81-2.81c.8-.78.8-2.07 0-2.86zM5.41 20L4 18.59l7.72-7.72 1.47 1.35L5.41 20z\"/>\n",
              "  </svg>\n",
              "      </button>\n",
              "      \n",
              "  <style>\n",
              "    .colab-df-container {\n",
              "      display:flex;\n",
              "      flex-wrap:wrap;\n",
              "      gap: 12px;\n",
              "    }\n",
              "\n",
              "    .colab-df-convert {\n",
              "      background-color: #E8F0FE;\n",
              "      border: none;\n",
              "      border-radius: 50%;\n",
              "      cursor: pointer;\n",
              "      display: none;\n",
              "      fill: #1967D2;\n",
              "      height: 32px;\n",
              "      padding: 0 0 0 0;\n",
              "      width: 32px;\n",
              "    }\n",
              "\n",
              "    .colab-df-convert:hover {\n",
              "      background-color: #E2EBFA;\n",
              "      box-shadow: 0px 1px 2px rgba(60, 64, 67, 0.3), 0px 1px 3px 1px rgba(60, 64, 67, 0.15);\n",
              "      fill: #174EA6;\n",
              "    }\n",
              "\n",
              "    [theme=dark] .colab-df-convert {\n",
              "      background-color: #3B4455;\n",
              "      fill: #D2E3FC;\n",
              "    }\n",
              "\n",
              "    [theme=dark] .colab-df-convert:hover {\n",
              "      background-color: #434B5C;\n",
              "      box-shadow: 0px 1px 3px 1px rgba(0, 0, 0, 0.15);\n",
              "      filter: drop-shadow(0px 1px 2px rgba(0, 0, 0, 0.3));\n",
              "      fill: #FFFFFF;\n",
              "    }\n",
              "  </style>\n",
              "\n",
              "      <script>\n",
              "        const buttonEl =\n",
              "          document.querySelector('#df-6247daab-8b22-4698-a5df-595993231da3 button.colab-df-convert');\n",
              "        buttonEl.style.display =\n",
              "          google.colab.kernel.accessAllowed ? 'block' : 'none';\n",
              "\n",
              "        async function convertToInteractive(key) {\n",
              "          const element = document.querySelector('#df-6247daab-8b22-4698-a5df-595993231da3');\n",
              "          const dataTable =\n",
              "            await google.colab.kernel.invokeFunction('convertToInteractive',\n",
              "                                                     [key], {});\n",
              "          if (!dataTable) return;\n",
              "\n",
              "          const docLinkHtml = 'Like what you see? Visit the ' +\n",
              "            '<a target=\"_blank\" href=https://colab.research.google.com/notebooks/data_table.ipynb>data table notebook</a>'\n",
              "            + ' to learn more about interactive tables.';\n",
              "          element.innerHTML = '';\n",
              "          dataTable['output_type'] = 'display_data';\n",
              "          await google.colab.output.renderOutput(dataTable, element);\n",
              "          const docLink = document.createElement('div');\n",
              "          docLink.innerHTML = docLinkHtml;\n",
              "          element.appendChild(docLink);\n",
              "        }\n",
              "      </script>\n",
              "    </div>\n",
              "  </div>\n",
              "  "
            ]
          },
          "metadata": {},
          "execution_count": 14
        }
      ],
      "source": [
        "data.head(5)"
      ]
    },
    {
      "cell_type": "code",
      "execution_count": 15,
      "metadata": {
        "colab": {
          "base_uri": "https://localhost:8080/",
          "height": 621
        },
        "id": "CTz5kI7BUKt9",
        "outputId": "9cc61c22-c612-43c7-9c20-fb91936ccc77"
      },
      "outputs": [
        {
          "output_type": "display_data",
          "data": {
            "text/plain": [
              "<Figure size 1080x720 with 1 Axes>"
            ],
            "image/png": "[encoded data removed]"
          },
          "metadata": {
            "needs_background": "light"
          }
        }
      ],
      "source": [
        "plt.figure(figsize=(15,10))\n",
        "sns.countplot(\n",
        "  x='review_type',\n",
        "  data=data,\n",
        "  order=data.review_type.value_counts().index\n",
        ")\n",
        "\n",
        "plt.xlabel(\"type\")\n",
        "plt.title(\"Review type\");"
      ]
    },
    {
      "cell_type": "markdown",
      "metadata": {
        "id": "dFGdDmNMUKt-"
      },
      "source": [
        "## Random resampling for imbalanced dataset"
      ]
    },
    {
      "cell_type": "code",
      "execution_count": 16,
      "metadata": {
        "colab": {
          "base_uri": "https://localhost:8080/"
        },
        "id": "DAU_sgoCUKt-",
        "outputId": "09e8e84a-0378-40e0-8728-4e02d479c2d1"
      },
      "outputs": [
        {
          "output_type": "execute_result",
          "data": {
            "text/plain": [
              "(249354, 11)"
            ]
          },
          "metadata": {},
          "execution_count": 16
        }
      ],
      "source": [
        "positive_reviews = data[data.review_type == \"positive\"]\n",
        "negative_reviews = data[data.review_type == \"negative\"]\n",
        "positive_df = positive_reviews.sample(n=len(negative_reviews))\n",
        "negative_df = negative_reviews\n",
        "review_df = positive_df.append(negative_df).reset_index(drop=True)\n",
        "review_df.shape"
      ]
    },
    {
      "cell_type": "code",
      "execution_count": 17,
      "metadata": {
        "colab": {
          "base_uri": "https://localhost:8080/",
          "height": 621
        },
        "id": "oBWijCfHUKt-",
        "outputId": "3303dea9-27e1-4a62-d2f8-ed58db162964"
      },
      "outputs": [
        {
          "output_type": "display_data",
          "data": {
            "text/plain": [
              "<Figure size 1080x720 with 1 Axes>"
            ],
            "image/png": "[encoded data removed]"
          },
          "metadata": {
            "needs_background": "light"
          }
        }
      ],
      "source": [
        "plt.figure(figsize=(15,10))\n",
        "sns.countplot(\n",
        "  x='review_type',\n",
        "  data=review_df,\n",
        "  order=review_df.review_type.value_counts().index\n",
        ")\n",
        "\n",
        "plt.xlabel(\"type\")\n",
        "plt.title(\"Review type (resampled)\");"
      ]
    },
    {
      "cell_type": "markdown",
      "metadata": {
        "id": "fCdeXG9yUKt-"
      },
      "source": [
        "## Split dataset into train and test"
      ]
    },
    {
      "cell_type": "code",
      "execution_count": 18,
      "metadata": {
        "id": "lSuMcG3AUKt-"
      },
      "outputs": [],
      "source": [
        "## Removing html tags\n",
        "review_df['Text']=review_df['Text'].apply(lambda row : re.sub('<.*?>','',row))\n",
        "\n",
        "review_df.loc[review_df['review_type'] == \"negative\", 'label'] = 0\n",
        "review_df.loc[review_df['review_type'] == \"positive\", 'label'] = 1\n",
        "X_train, X_test, y_train, y_test = train_test_split(review_df[['Text']],review_df.label, \n",
        "                                                    test_size=0.2, shuffle=True)"
      ]
    },
    {
      "cell_type": "code",
      "execution_count": 19,
      "metadata": {
        "colab": {
          "base_uri": "https://localhost:8080/",
          "height": 206
        },
        "id": "AxAriVHUUKt_",
        "outputId": "74bab94e-b0b6-4264-d84b-bada1bfe4c08"
      },
      "outputs": [
        {
          "output_type": "execute_result",
          "data": {
            "text/plain": [
              "                                                     Text\n",
              "204150  Zico used to be my coconut water of choice. Wh...\n",
              "66554   I love Quinoa Flakes.  It is a fast breakfast ...\n",
              "49688   my \"big man\" is a 90 lb boxer with hip displas...\n",
              "112093  I have to watch the sodium in my diet and came...\n",
              "136583  I've loved using NuStevia for 5 years.I tried ..."
            ],
            "text/html": [
              "\n",
              "  <div id=\"df-c74e7388-a82d-4cc0-a133-e2c8e40cc1b0\">\n",
              "    <div class=\"colab-df-container\">\n",
              "      <div>\n",
              "<style scoped>\n",
              "    .dataframe tbody tr th:only-of-type {\n",
              "        vertical-align: middle;\n",
              "    }\n",
              "\n",
              "    .dataframe tbody tr th {\n",
              "        vertical-align: top;\n",
              "    }\n",
              "\n",
              "    .dataframe thead th {\n",
              "        text-align: right;\n",
              "    }\n",
              "</style>\n",
              "<table border=\"1\" class=\"dataframe\">\n",
              "  <thead>\n",
              "    <tr style=\"text-align: right;\">\n",
              "      <th></th>\n",
              "      <th>Text</th>\n",
              "    </tr>\n",
              "  </thead>\n",
              "  <tbody>\n",
              "    <tr>\n",
              "      <th>204150</th>\n",
              "      <td>Zico used to be my coconut water of choice. Wh...</td>\n",
              "    </tr>\n",
              "    <tr>\n",
              "      <th>66554</th>\n",
              "      <td>I love Quinoa Flakes.  It is a fast breakfast ...</td>\n",
              "    </tr>\n",
              "    <tr>\n",
              "      <th>49688</th>\n",
              "      <td>my \"big man\" is a 90 lb boxer with hip displas...</td>\n",
              "    </tr>\n",
              "    <tr>\n",
              "      <th>112093</th>\n",
              "      <td>I have to watch the sodium in my diet and came...</td>\n",
              "    </tr>\n",
              "    <tr>\n",
              "      <th>136583</th>\n",
              "      <td>I've loved using NuStevia for 5 years.I tried ...</td>\n",
              "    </tr>\n",
              "  </tbody>\n",
              "</table>\n",
              "</div>\n",
              "      <button class=\"colab-df-convert\" onclick=\"convertToInteractive('df-c74e7388-a82d-4cc0-a133-e2c8e40cc1b0')\"\n",
              "              title=\"Convert this dataframe to an interactive table.\"\n",
              "              style=\"display:none;\">\n",
              "        \n",
              "  <svg xmlns=\"http://www.w3.org/2000/svg\" height=\"24px\"viewBox=\"0 0 24 24\"\n",
              "       width=\"24px\">\n",
              "    <path d=\"M0 0h24v24H0V0z\" fill=\"none\"/>\n",
              "    <path d=\"M18.56 5.44l.94 2.06.94-2.06 2.06-.94-2.06-.94-.94-2.06-.94 2.06-2.06.94zm-11 1L8.5 8.5l.94-2.06 2.06-.94-2.06-.94L8.5 2.5l-.94 2.06-2.06.94zm10 10l.94 2.06.94-2.06 2.06-.94-2.06-.94-.94-2.06-.94 2.06-2.06.94z\"/><path d=\"M17.41 7.96l-1.37-1.37c-.4-.4-.92-.59-1.43-.59-.52 0-1.04.2-1.43.59L10.3 9.45l-7.72 7.72c-.78.78-.78 2.05 0 2.83L4 21.41c.39.39.9.59 1.41.59.51 0 1.02-.2 1.41-.59l7.78-7.78 2.81-2.81c.8-.78.8-2.07 0-2.86zM5.41 20L4 18.59l7.72-7.72 1.47 1.35L5.41 20z\"/>\n",
              "  </svg>\n",
              "      </button>\n",
              "      \n",
              "  <style>\n",
              "    .colab-df-container {\n",
              "      display:flex;\n",
              "      flex-wrap:wrap;\n",
              "      gap: 12px;\n",
              "    }\n",
              "\n",
              "    .colab-df-convert {\n",
              "      background-color: #E8F0FE;\n",
              "      border: none;\n",
              "      border-radius: 50%;\n",
              "      cursor: pointer;\n",
              "      display: none;\n",
              "      fill: #1967D2;\n",
              "      height: 32px;\n",
              "      padding: 0 0 0 0;\n",
              "      width: 32px;\n",
              "    }\n",
              "\n",
              "    .colab-df-convert:hover {\n",
              "      background-color: #E2EBFA;\n",
              "      box-shadow: 0px 1px 2px rgba(60, 64, 67, 0.3), 0px 1px 3px 1px rgba(60, 64, 67, 0.15);\n",
              "      fill: #174EA6;\n",
              "    }\n",
              "\n",
              "    [theme=dark] .colab-df-convert {\n",
              "      background-color: #3B4455;\n",
              "      fill: #D2E3FC;\n",
              "    }\n",
              "\n",
              "    [theme=dark] .colab-df-convert:hover {\n",
              "      background-color: #434B5C;\n",
              "      box-shadow: 0px 1px 3px 1px rgba(0, 0, 0, 0.15);\n",
              "      filter: drop-shadow(0px 1px 2px rgba(0, 0, 0, 0.3));\n",
              "      fill: #FFFFFF;\n",
              "    }\n",
              "  </style>\n",
              "\n",
              "      <script>\n",
              "        const buttonEl =\n",
              "          document.querySelector('#df-c74e7388-a82d-4cc0-a133-e2c8e40cc1b0 button.colab-df-convert');\n",
              "        buttonEl.style.display =\n",
              "          google.colab.kernel.accessAllowed ? 'block' : 'none';\n",
              "\n",
              "        async function convertToInteractive(key) {\n",
              "          const element = document.querySelector('#df-c74e7388-a82d-4cc0-a133-e2c8e40cc1b0');\n",
              "          const dataTable =\n",
              "            await google.colab.kernel.invokeFunction('convertToInteractive',\n",
              "                                                     [key], {});\n",
              "          if (!dataTable) return;\n",
              "\n",
              "          const docLinkHtml = 'Like what you see? Visit the ' +\n",
              "            '<a target=\"_blank\" href=https://colab.research.google.com/notebooks/data_table.ipynb>data table notebook</a>'\n",
              "            + ' to learn more about interactive tables.';\n",
              "          element.innerHTML = '';\n",
              "          dataTable['output_type'] = 'display_data';\n",
              "          await google.colab.output.renderOutput(dataTable, element);\n",
              "          const docLink = document.createElement('div');\n",
              "          docLink.innerHTML = docLinkHtml;\n",
              "          element.appendChild(docLink);\n",
              "        }\n",
              "      </script>\n",
              "    </div>\n",
              "  </div>\n",
              "  "
            ]
          },
          "metadata": {},
          "execution_count": 19
        }
      ],
      "source": [
        "X_train.head(5)"
      ]
    },
    {
      "cell_type": "code",
      "execution_count": 20,
      "metadata": {
        "colab": {
          "base_uri": "https://localhost:8080/"
        },
        "id": "tta150ywUKt_",
        "outputId": "d26a61ca-f0d2-4fbd-d112-64152b39fbf5"
      },
      "outputs": [
        {
          "output_type": "execute_result",
          "data": {
            "text/plain": [
              "204150    0.0\n",
              "66554     1.0\n",
              "49688     1.0\n",
              "112093    1.0\n",
              "136583    0.0\n",
              "Name: label, dtype: float64"
            ]
          },
          "metadata": {},
          "execution_count": 20
        }
      ],
      "source": [
        "y_train.head(5)"
      ]
    },
    {
      "cell_type": "code",
      "execution_count": 21,
      "metadata": {
        "id": "iER99G8HUKt_"
      },
      "outputs": [],
      "source": [
        "X_train=X_train[:int(len(X_train)*0.01)]\n",
        "X_test=X_test[:int(len(X_test)*0.01)]\n",
        "y_train=y_train[:int(len(y_train)*0.01)]\n",
        "y_test=y_test[:int(len(y_test)*0.01)]"
      ]
    },
    {
      "cell_type": "code",
      "execution_count": 22,
      "metadata": {
        "colab": {
          "base_uri": "https://localhost:8080/"
        },
        "id": "BayMVS9kUKt_",
        "outputId": "7112ac40-9b0e-484f-a90b-8d1eb80362ac"
      },
      "outputs": [
        {
          "output_type": "stream",
          "name": "stdout",
          "text": [
            "Train sample num:  (1994, 1)\n",
            "Test sample num:  (498, 1)\n"
          ]
        }
      ],
      "source": [
        "print (\"Train sample num: \", X_train.shape)\n",
        "print (\"Test sample num: \", X_test.shape)"
      ]
    },
    {
      "cell_type": "code",
      "execution_count": 23,
      "metadata": {
        "colab": {
          "base_uri": "https://localhost:8080/",
          "height": 424
        },
        "id": "ik_sG2oyUKt_",
        "outputId": "e928a361-15e7-42b0-986b-2639a128b711"
      },
      "outputs": [
        {
          "output_type": "execute_result",
          "data": {
            "text/plain": [
              "                                                     Text\n",
              "204150  Zico used to be my coconut water of choice. Wh...\n",
              "66554   I love Quinoa Flakes.  It is a fast breakfast ...\n",
              "49688   my \"big man\" is a 90 lb boxer with hip displas...\n",
              "112093  I have to watch the sodium in my diet and came...\n",
              "136583  I've loved using NuStevia for 5 years.I tried ...\n",
              "...                                                   ...\n",
              "194417  My 7 cats including a homeless stray did not t...\n",
              "76778   I almost gave up on nursing but low in behold ...\n",
              "91629   Purchasing Lundberg Jubilee, Gourmet Blend of ...\n",
              "35784   this is exactyl what i have been searching for...\n",
              "231805  If you even like this product...the bottle des...\n",
              "\n",
              "[1994 rows x 1 columns]"
            ],
            "text/html": [
              "\n",
              "  <div id=\"df-4fb1827e-2910-478c-abb7-d5c7b883c4d3\">\n",
              "    <div class=\"colab-df-container\">\n",
              "      <div>\n",
              "<style scoped>\n",
              "    .dataframe tbody tr th:only-of-type {\n",
              "        vertical-align: middle;\n",
              "    }\n",
              "\n",
              "    .dataframe tbody tr th {\n",
              "        vertical-align: top;\n",
              "    }\n",
              "\n",
              "    .dataframe thead th {\n",
              "        text-align: right;\n",
              "    }\n",
              "</style>\n",
              "<table border=\"1\" class=\"dataframe\">\n",
              "  <thead>\n",
              "    <tr style=\"text-align: right;\">\n",
              "      <th></th>\n",
              "      <th>Text</th>\n",
              "    </tr>\n",
              "  </thead>\n",
              "  <tbody>\n",
              "    <tr>\n",
              "      <th>204150</th>\n",
              "      <td>Zico used to be my coconut water of choice. Wh...</td>\n",
              "    </tr>\n",
              "    <tr>\n",
              "      <th>66554</th>\n",
              "      <td>I love Quinoa Flakes.  It is a fast breakfast ...</td>\n",
              "    </tr>\n",
              "    <tr>\n",
              "      <th>49688</th>\n",
              "      <td>my \"big man\" is a 90 lb boxer with hip displas...</td>\n",
              "    </tr>\n",
              "    <tr>\n",
              "      <th>112093</th>\n",
              "      <td>I have to watch the sodium in my diet and came...</td>\n",
              "    </tr>\n",
              "    <tr>\n",
              "      <th>136583</th>\n",
              "      <td>I've loved using NuStevia for 5 years.I tried ...</td>\n",
              "    </tr>\n",
              "    <tr>\n",
              "      <th>...</th>\n",
              "      <td>...</td>\n",
              "    </tr>\n",
              "    <tr>\n",
              "      <th>194417</th>\n",
              "      <td>My 7 cats including a homeless stray did not t...</td>\n",
              "    </tr>\n",
              "    <tr>\n",
              "      <th>76778</th>\n",
              "      <td>I almost gave up on nursing but low in behold ...</td>\n",
              "    </tr>\n",
              "    <tr>\n",
              "      <th>91629</th>\n",
              "      <td>Purchasing Lundberg Jubilee, Gourmet Blend of ...</td>\n",
              "    </tr>\n",
              "    <tr>\n",
              "      <th>35784</th>\n",
              "      <td>this is exactyl what i have been searching for...</td>\n",
              "    </tr>\n",
              "    <tr>\n",
              "      <th>231805</th>\n",
              "      <td>If you even like this product...the bottle des...</td>\n",
              "    </tr>\n",
              "  </tbody>\n",
              "</table>\n",
              "<p>1994 rows × 1 columns</p>\n",
              "</div>\n",
              "      <button class=\"colab-df-convert\" onclick=\"convertToInteractive('df-4fb1827e-2910-478c-abb7-d5c7b883c4d3')\"\n",
              "              title=\"Convert this dataframe to an interactive table.\"\n",
              "              style=\"display:none;\">\n",
              "        \n",
              "  <svg xmlns=\"http://www.w3.org/2000/svg\" height=\"24px\"viewBox=\"0 0 24 24\"\n",
              "       width=\"24px\">\n",
              "    <path d=\"M0 0h24v24H0V0z\" fill=\"none\"/>\n",
              "    <path d=\"M18.56 5.44l.94 2.06.94-2.06 2.06-.94-2.06-.94-.94-2.06-.94 2.06-2.06.94zm-11 1L8.5 8.5l.94-2.06 2.06-.94-2.06-.94L8.5 2.5l-.94 2.06-2.06.94zm10 10l.94 2.06.94-2.06 2.06-.94-2.06-.94-.94-2.06-.94 2.06-2.06.94z\"/><path d=\"M17.41 7.96l-1.37-1.37c-.4-.4-.92-.59-1.43-.59-.52 0-1.04.2-1.43.59L10.3 9.45l-7.72 7.72c-.78.78-.78 2.05 0 2.83L4 21.41c.39.39.9.59 1.41.59.51 0 1.02-.2 1.41-.59l7.78-7.78 2.81-2.81c.8-.78.8-2.07 0-2.86zM5.41 20L4 18.59l7.72-7.72 1.47 1.35L5.41 20z\"/>\n",
              "  </svg>\n",
              "      </button>\n",
              "      \n",
              "  <style>\n",
              "    .colab-df-container {\n",
              "      display:flex;\n",
              "      flex-wrap:wrap;\n",
              "      gap: 12px;\n",
              "    }\n",
              "\n",
              "    .colab-df-convert {\n",
              "      background-color: #E8F0FE;\n",
              "      border: none;\n",
              "      border-radius: 50%;\n",
              "      cursor: pointer;\n",
              "      display: none;\n",
              "      fill: #1967D2;\n",
              "      height: 32px;\n",
              "      padding: 0 0 0 0;\n",
              "      width: 32px;\n",
              "    }\n",
              "\n",
              "    .colab-df-convert:hover {\n",
              "      background-color: #E2EBFA;\n",
              "      box-shadow: 0px 1px 2px rgba(60, 64, 67, 0.3), 0px 1px 3px 1px rgba(60, 64, 67, 0.15);\n",
              "      fill: #174EA6;\n",
              "    }\n",
              "\n",
              "    [theme=dark] .colab-df-convert {\n",
              "      background-color: #3B4455;\n",
              "      fill: #D2E3FC;\n",
              "    }\n",
              "\n",
              "    [theme=dark] .colab-df-convert:hover {\n",
              "      background-color: #434B5C;\n",
              "      box-shadow: 0px 1px 3px 1px rgba(0, 0, 0, 0.15);\n",
              "      filter: drop-shadow(0px 1px 2px rgba(0, 0, 0, 0.3));\n",
              "      fill: #FFFFFF;\n",
              "    }\n",
              "  </style>\n",
              "\n",
              "      <script>\n",
              "        const buttonEl =\n",
              "          document.querySelector('#df-4fb1827e-2910-478c-abb7-d5c7b883c4d3 button.colab-df-convert');\n",
              "        buttonEl.style.display =\n",
              "          google.colab.kernel.accessAllowed ? 'block' : 'none';\n",
              "\n",
              "        async function convertToInteractive(key) {\n",
              "          const element = document.querySelector('#df-4fb1827e-2910-478c-abb7-d5c7b883c4d3');\n",
              "          const dataTable =\n",
              "            await google.colab.kernel.invokeFunction('convertToInteractive',\n",
              "                                                     [key], {});\n",
              "          if (!dataTable) return;\n",
              "\n",
              "          const docLinkHtml = 'Like what you see? Visit the ' +\n",
              "            '<a target=\"_blank\" href=https://colab.research.google.com/notebooks/data_table.ipynb>data table notebook</a>'\n",
              "            + ' to learn more about interactive tables.';\n",
              "          element.innerHTML = '';\n",
              "          dataTable['output_type'] = 'display_data';\n",
              "          await google.colab.output.renderOutput(dataTable, element);\n",
              "          const docLink = document.createElement('div');\n",
              "          docLink.innerHTML = docLinkHtml;\n",
              "          element.appendChild(docLink);\n",
              "        }\n",
              "      </script>\n",
              "    </div>\n",
              "  </div>\n",
              "  "
            ]
          },
          "metadata": {},
          "execution_count": 23
        }
      ],
      "source": [
        "X_train"
      ]
    },
    {
      "cell_type": "markdown",
      "metadata": {
        "id": "GWixzanzUKt_"
      },
      "source": [
        "## TFIDF"
      ]
    },
    {
      "cell_type": "markdown",
      "metadata": {
        "id": "cydiAFwiUKt_"
      },
      "source": [
        "### Preprocess data"
      ]
    },
    {
      "cell_type": "code",
      "execution_count": 31,
      "metadata": {
        "id": "5VezQaWIUKt_"
      },
      "outputs": [],
      "source": [
        "def data_preprocessing(review):\n",
        "\n",
        "    # package setting\n",
        "    stop_words = stopwords.words('english')\n",
        "    lemmatizer = WordNetLemmatizer()\n",
        "\n",
        "    # data cleaning\n",
        "    review = re.sub(re.compile('<.*?>'), '', review) #removing html tags\n",
        "    review =  re.sub('[^A-Za-z0-9]+', ' ', review) #taking only words\n",
        "\n",
        "    # lowercase\n",
        "    review = review.lower()\n",
        "\n",
        "    # tokenization\n",
        "    tokens = nltk.word_tokenize(review) # converts review to tokens\n",
        "\n",
        "    # stop_words removal\n",
        "    review = [word for word in tokens if word not in stop_words] #removing stop words\n",
        "\n",
        "    # lemmatization\n",
        "    review = [lemmatizer.lemmatize(word) for word in review]\n",
        "\n",
        "    # join words in preprocessed review\n",
        "    review = ' '.join(review)\n",
        "\n",
        "    return review"
      ]
    },
    {
      "cell_type": "code",
      "execution_count": 32,
      "metadata": {
        "id": "5X9ZNIY7UKuA"
      },
      "outputs": [],
      "source": [
        "X_train['clean_text']=X_train['Text'].apply(lambda x: data_preprocessing(x))\n",
        "X_test['clean_text']=X_test['Text'].apply(lambda x: data_preprocessing(x))"
      ]
    },
    {
      "cell_type": "markdown",
      "metadata": {
        "id": "j8af4GBcUKuA"
      },
      "source": [
        "### Text Vectorization via TFIDF"
      ]
    },
    {
      "cell_type": "code",
      "execution_count": 33,
      "metadata": {
        "id": "ger8wM6ZUKuA"
      },
      "outputs": [],
      "source": [
        "from sklearn.feature_extraction.text import TfidfVectorizer\n",
        "from sklearn.naive_bayes import MultinomialNB\n",
        "from sklearn.linear_model import LogisticRegression\n",
        "from sklearn import svm\n",
        "from sklearn.ensemble import RandomForestClassifier\n",
        "from sklearn.metrics import precision_score, recall_score, accuracy_score, f1_score\n",
        "\n",
        "vectorizer = TfidfVectorizer(min_df=10)\n",
        "X_train_tfidf = vectorizer.fit_transform(X_train['clean_text'])\n",
        "X_test_tfidf = vectorizer.transform(X_test['clean_text'])"
      ]
    },
    {
      "cell_type": "code",
      "execution_count": 34,
      "metadata": {
        "colab": {
          "base_uri": "https://localhost:8080/"
        },
        "id": "d5ZSe5CnUKuA",
        "outputId": "d0d5fff5-466b-47c3-ac6e-0e2399b6c0fa"
      },
      "outputs": [
        {
          "output_type": "execute_result",
          "data": {
            "text/plain": [
              "204150    0.0\n",
              "66554     1.0\n",
              "49688     1.0\n",
              "112093    1.0\n",
              "136583    0.0\n",
              "         ... \n",
              "194417    0.0\n",
              "76778     1.0\n",
              "91629     1.0\n",
              "35784     1.0\n",
              "231805    0.0\n",
              "Name: label, Length: 1994, dtype: float64"
            ]
          },
          "metadata": {},
          "execution_count": 34
        }
      ],
      "source": [
        "y_train"
      ]
    },
    {
      "cell_type": "markdown",
      "metadata": {
        "id": "fcBb3z44UKuA"
      },
      "source": [
        "### Train model"
      ]
    },
    {
      "cell_type": "code",
      "execution_count": 35,
      "metadata": {
        "id": "d1WfKNZEUKuA"
      },
      "outputs": [],
      "source": [
        "def run_model(model,X_train,X_test,y_train,y_test):\n",
        "    if model == \"lr\":\n",
        "        clf = LogisticRegression(penalty='l2',max_iter=1000)\n",
        "    \n",
        "    clf.fit(X_train, y_train)\n",
        "    y_pred = clf.predict(X_test)\n",
        "    return accuracy_score(y_test, y_pred)"
      ]
    },
    {
      "cell_type": "code",
      "execution_count": 36,
      "metadata": {
        "id": "oTYHgJItUKuA"
      },
      "outputs": [],
      "source": [
        "accuracy_lr=run_model(\"lr\",X_train_tfidf,X_test_tfidf,y_train,y_test)"
      ]
    },
    {
      "cell_type": "code",
      "execution_count": 37,
      "metadata": {
        "colab": {
          "base_uri": "https://localhost:8080/"
        },
        "id": "9FVtHI2aUKuA",
        "outputId": "b026d1e6-6ab7-48dc-eec2-2808070ea994"
      },
      "outputs": [
        {
          "output_type": "stream",
          "name": "stdout",
          "text": [
            "+----------+----------+\n",
            "|  Model   | Accuracy |\n",
            "+----------+----------+\n",
            "| TFIDF-lr |  0.783   |\n",
            "+----------+----------+\n"
          ]
        }
      ],
      "source": [
        "from prettytable import PrettyTable\n",
        "\n",
        "x = PrettyTable()\n",
        "x.field_names = ['Model', 'Accuracy']\n",
        "x.add_row(['TFIDF-lr',str(format(accuracy_lr,'.3f'))])\n",
        "print(x)"
      ]
    },
    {
      "cell_type": "markdown",
      "metadata": {
        "id": "iQNCaVCHUKuB"
      },
      "source": [
        "## Question 1\n",
        "\n",
        "**Part 1**\n",
        "\n",
        "Try two different methods such as `RandomForestClassifier`, `DecisionTreeClassifier`, `SVM`, etc. \n",
        "Can you achieve better performance than the previous model? Report your results in the table below."
      ]
    },
    {
      "cell_type": "code",
      "execution_count": 38,
      "metadata": {
        "colab": {
          "base_uri": "https://localhost:8080/",
          "height": 71
        },
        "id": "jLawhmV6UKuB",
        "outputId": "36625627-454d-4860-d2a7-140c819e942c"
      },
      "outputs": [
        {
          "output_type": "execute_result",
          "data": {
            "text/plain": [
              "'\\ndef run_model(model,X_train,X_test,y_train,y_test):\\n    if model == \"lr\":\\n        clf = LogisticRegression(penalty=\\'l2\\',max_iter=1000)\\n    \\n    elif model == \"xxx\":\\n        clf = xxxxxxxx\\n    \\n    clf.fit(X_train, y_train)\\n    y_pred = clf.predict(X_test)\\n    return accuracy_score(y_test, y_pred)\\n\\naccuracy_xxx=run_model(\"xxx\",X_train_tfidf,X_test_tfidf,y_train,y_test)\\n\\n'"
            ],
            "application/vnd.google.colaboratory.intrinsic+json": {
              "type": "string"
            }
          },
          "metadata": {},
          "execution_count": 38
        }
      ],
      "source": [
        "#### Your code ####\n",
        "from sklearn.ensemble import RandomForestClassifier\n",
        "from sklearn.tree import DecisionTreeClassifier\n",
        "\n",
        "def run_model(model,X_train,X_test,y_train,y_test):\n",
        "    if model == \"lr\":\n",
        "        clf = LogisticRegression(penalty='l2',max_iter=1000)\n",
        "    \n",
        "    elif model == \"RFC\":\n",
        "        clf = RandomForestClassifier(n_estimators=100)\n",
        "        \n",
        "    elif model == \"DTC\":\n",
        "        clf = DecisionTreeClassifier()\n",
        "    \n",
        "    clf.fit(X_train, y_train)\n",
        "    y_pred = clf.predict(X_test)\n",
        "    return accuracy_score(y_test, y_pred)\n",
        "\n",
        "accuracy_RandomForest=run_model(\"RFC\",X_train_tfidf,X_test_tfidf,y_train,y_test)\n",
        "accuracy_DecisionTree=run_model(\"DTC\",X_train_tfidf,X_test_tfidf,y_train,y_test)\n",
        "\n",
        "\n",
        "\n",
        "#Hint: \n",
        "'''\n",
        "def run_model(model,X_train,X_test,y_train,y_test):\n",
        "    if model == \"lr\":\n",
        "        clf = LogisticRegression(penalty='l2',max_iter=1000)\n",
        "    \n",
        "    elif model == \"xxx\":\n",
        "        clf = xxxxxxxx\n",
        "    \n",
        "    clf.fit(X_train, y_train)\n",
        "    y_pred = clf.predict(X_test)\n",
        "    return accuracy_score(y_test, y_pred)\n",
        "\n",
        "accuracy_xxx=run_model(\"xxx\",X_train_tfidf,X_test_tfidf,y_train,y_test)\n",
        "\n",
        "'''\n"
      ]
    },
    {
      "cell_type": "code",
      "execution_count": 39,
      "metadata": {
        "id": "p6dfluvOUKuB"
      },
      "outputs": [],
      "source": [
        "x.add_row(['TFIDF-lr',str(format(accuracy_lr,'.3f'))])\n",
        "x.add_row([\"Random Forest Classifier\",str(format(accuracy_RandomForest,'.3f'))])\n",
        "x.add_row([\"Decision Tree Classifier\",str(format(accuracy_DecisionTree,'.3f'))])"
      ]
    },
    {
      "cell_type": "code",
      "execution_count": 42,
      "metadata": {
        "colab": {
          "base_uri": "https://localhost:8080/"
        },
        "id": "TrcIelwTUKuB",
        "outputId": "c246a7af-e169-4e5a-ad7b-45c8349a4f8e"
      },
      "outputs": [
        {
          "output_type": "stream",
          "name": "stdout",
          "text": [
            "+--------------------------+----------+\n",
            "|          Model           | Accuracy |\n",
            "+--------------------------+----------+\n",
            "|         TFIDF-lr         |  0.783   |\n",
            "| Random Forest Classifier |  0.747   |\n",
            "| Decision Tree Classifier |  0.659   |\n",
            "+--------------------------+----------+\n"
          ]
        }
      ],
      "source": [
        "print (x)"
      ]
    },
    {
      "cell_type": "markdown",
      "metadata": {
        "id": "o_Q7tiGAUKuB"
      },
      "source": [
        "## Deep Learning"
      ]
    },
    {
      "cell_type": "markdown",
      "metadata": {
        "id": "SERdOBpQUKuB"
      },
      "source": [
        "## Question 2\n",
        "\n",
        "Before we move on to model training part, please read the article below and answer the following questions.\n",
        "\n",
        "https://www.zendesk.com/blog/machine-learning-and-deep-learning/\n",
        "\n",
        "https://towardsdatascience.com/what-is-a-gpu-and-do-you-need-one-in-deep-learning-718b9597aa0d\n",
        "\n",
        "**Part 1**\n",
        "\n",
        "What are the important things that make deep learning different from other machine learning algorithms?\n",
        "\n",
        "**Part 2**\n",
        "\n",
        "What are the differences between a CPU and a GPU? Is the performance of GPU always superior to that of CPU? why?  \n",
        "\n",
        "**Part 3**  \n",
        "\n",
        "Why are GPUs particularly effective for performing efficient deep learning? Explain. \n"
      ]
    },
    {
      "cell_type": "code",
      "execution_count": null,
      "metadata": {
        "id": "J8hE-rTCUKuB"
      },
      "outputs": [],
      "source": [
        "###Your answer here###\n",
        "\n",
        "# Part 1\n",
        "#   Well to start deep learning is a part of machine learning. Deep learning however doesn't require anyone to course correct it when its algorithm\n",
        "#   is wrong. Machine learning uses algorithms for the data reading, parsing, and understanding. Deep learning \"structures\" algorithms in layers\n",
        "#   for it to run.\n",
        "\n",
        "# Part 2\n",
        "#   A CPU or central processing unit is different from a GPU or graphics processing unit. A CPU is used for more general, specific calculations\n",
        "#   and a GPU is better used for calculating things with large quantaties of daata. The performance of a GPU is not always better than a CPU, just\n",
        "#   mostly when calculating things with large data sets which we do a lot in data science.\n",
        "\n",
        "# Part 3\n",
        "#   GPUs are ideal for deep learning since they can do multiple of these calculations at once, which is dramatically faster than the CPUs which arent\n",
        "#   able to do this.\n",
        "\n",
        "\n",
        "\n",
        "\n"
      ]
    },
    {
      "cell_type": "markdown",
      "metadata": {
        "id": "90fhBEbdUKuB"
      },
      "source": [
        "### Build networks"
      ]
    },
    {
      "cell_type": "markdown",
      "metadata": {
        "id": "RsCdPC7tUKuB"
      },
      "source": [
        "Now we can design a sample neural network architecture here. Let's think about what kind of architecture we want. We know our input dimension defines by tfidf, so the input to the first layer has to be of size same to the dimension. Our output is a class number (0 or 1), so our output can be 1 dimensional. Everything in between is up to us. And how do we decide what kind of architecture we want? We make it up! At least at first.\n",
        "\n",
        "This example has 2 layers of size input_dim -> 100 -> 1. "
      ]
    },
    {
      "cell_type": "code",
      "execution_count": 43,
      "metadata": {
        "id": "-XHt4YEpUKuB"
      },
      "outputs": [],
      "source": [
        "class mynetwork_1(nn.Module):\n",
        "    def __init__(self,in_dim):\n",
        "        super(mynetwork_1, self).__init__()\n",
        "        self.input_dim = in_dim\n",
        "        self.structure = nn.Sequential(\n",
        "            nn.Linear(self.input_dim,100),\n",
        "            nn.Linear(100, 1)\n",
        "        )\n",
        "\n",
        "    def forward(self, x):\n",
        "        x = self.structure(x)\n",
        "        return x\n",
        "    \n",
        "class mynetwork_2(nn.Module):\n",
        "    def __init__(self,in_dim):\n",
        "        super(mynetwork_2, self).__init__()\n",
        "        self.input_dim = in_dim\n",
        "        self.structure = nn.Sequential(\n",
        "            nn.Linear(self.input_dim,100),\n",
        "            nn.Sigmoid(),\n",
        "            nn.Linear(100, 1)\n",
        "        )\n",
        "\n",
        "    def forward(self, x):\n",
        "        x = self.structure(x)\n",
        "        return x"
      ]
    },
    {
      "cell_type": "markdown",
      "metadata": {
        "id": "_hTfamljUKuC"
      },
      "source": [
        "## Question 3\n",
        "\n",
        "**Part 1** \n",
        "\n",
        "Comparing the two network structures above, what is the difference between them? In other words, what is `nn.Sigmoid()`, why do we need it? "
      ]
    },
    {
      "cell_type": "code",
      "execution_count": null,
      "metadata": {
        "id": "E4WkPFC3UKuC"
      },
      "outputs": [],
      "source": [
        "###Your answer here###\n",
        "\n",
        "# The sigmoid function is a mathematical function that maps any input value to a value between 0 and 1.\n",
        "# The sigmoid function is also commonly used as the \"activation function\" in neural networks.\n",
        "\n",
        "\n",
        "\n",
        "\n",
        "\n"
      ]
    },
    {
      "cell_type": "markdown",
      "metadata": {
        "id": "DvHtovdWUKuC"
      },
      "source": [
        "Next we need to choose some training settings:\n",
        "\n",
        "`batch size`\n",
        "\n",
        "`number of epochs`\n",
        "\n",
        "`learning rate`\n",
        "\n",
        "`criterion (loss function)`\n",
        "\n",
        "## Question 4\n",
        "\n",
        "Please read the article below and answer the following questions.\n",
        "\n",
        "https://blog.paperspace.com/intro-to-optimization-in-deep-learning-gradient-descent/\n",
        "\n",
        "https://towardsdatascience.com/what-are-hyperparameters-and-how-to-tune-the-hyperparameters-in-a-deep-neural-network-d0604917584a\n",
        "\n",
        "What are `batch size`, `number of epochs`, `learning rate`? How do they impact the optimization of neural networks?"
      ]
    },
    {
      "cell_type": "code",
      "execution_count": null,
      "metadata": {
        "id": "e-huWdWkUKuC"
      },
      "outputs": [],
      "source": [
        "###Your answer here###\n",
        "\n",
        "# The batch size is the number of training samples processed before the model is updated.\n",
        "# The number of epochs is the number of passes through the training dataset it does\n",
        "# The learning rate is the step size each iteration does to minimize loss\n",
        "\n",
        "# Having too large of a batch size will give a poor generalization. The number of epochs is directly related to how fit the \n",
        "# model is, too little will mean its under trained, and too much will be over trained, so its important to find the goldilocks.\n",
        "# Too small a learning rate will mean the model will get stuck and maybe take too long to train. And too large means it could be\n",
        "# quite inaccurate.\n",
        "\n",
        "\n",
        "\n",
        "\n"
      ]
    },
    {
      "cell_type": "markdown",
      "metadata": {
        "id": "T_bw8zmMUKuC"
      },
      "source": [
        "### Train network"
      ]
    },
    {
      "cell_type": "code",
      "execution_count": 61,
      "metadata": {
        "colab": {
          "base_uri": "https://localhost:8080/"
        },
        "id": "gu_R9VAUUKuC",
        "outputId": "4a9b929b-99de-452b-8c99-407cfea9d9cf"
      },
      "outputs": [
        {
          "output_type": "stream",
          "name": "stdout",
          "text": [
            "1258\n"
          ]
        }
      ],
      "source": [
        "# define networks\n",
        "in_dim=X_train_tfidf.shape[1]\n",
        "print(in_dim)\n",
        "model_1 = mynetwork_1(in_dim).cuda()\n",
        "model_2 = mynetwork_2(in_dim).cuda()\n",
        "\n",
        "#training settings\n",
        "batch_size = 55 # hyperparameter - changing it is optional for this assignment\n",
        "num_epochs = 550 # hyperparameter - changing it is optional for this assignment\n",
        "learning_rate = 1e-2 # hyperparameter - changing it is optional for this assignment\n",
        "criterion = nn.MSELoss()\n",
        "device=\"cuda\"\n",
        "\n",
        "# print interval during the training \n",
        "print_interval=20"
      ]
    },
    {
      "cell_type": "code",
      "execution_count": 45,
      "metadata": {
        "id": "hcCOJYXnUKuC"
      },
      "outputs": [],
      "source": [
        "def train(X_train_tfidf, y_train, network, epochs, learning_rate, \n",
        "          batch_size, loss_function, print_interval):\n",
        "  \n",
        "    # convert numpy data to tensor data for pytorch\n",
        "    X_train_tfidf = torch.tensor(scipy.sparse.csr_matrix.todense(X_train_tfidf)).float()\n",
        "    train_dataset = torch.utils.data.TensorDataset(torch.FloatTensor(X_train_tfidf),\n",
        "                                                 torch.Tensor(y_train.to_numpy()))\n",
        "    train_loader = torch.utils.data.DataLoader(train_dataset, batch_size=batch_size, \n",
        "                                             shuffle=True)\n",
        "    optimizer = torch.optim.Adam(network.parameters(), lr=learning_rate, weight_decay=1e-5)\n",
        "    track_losses = np.zeros(epochs)\n",
        "\n",
        "    start = time.time()\n",
        "    for epoch in range(1, epochs+1):\n",
        "\n",
        "        for batch_idx, (X, y) in enumerate(train_loader):\n",
        "            # grab the x's for this batch\n",
        "            data = X\n",
        "\n",
        "            # find the predictions f(x) for this batch\n",
        "            output = network(data.to(device))\n",
        "\n",
        "            # find the loss\n",
        "            loss = loss_function(output, y.view([-1, 1]).to(device))\n",
        "\n",
        "            # compute the gradient and update the network parameters\n",
        "            optimizer.zero_grad()\n",
        "            loss.backward()\n",
        "            optimizer.step()\n",
        "\n",
        "        # housekeeping - keep track of our losses and print them as we go\n",
        "        training_loss = loss.item()**.5\n",
        "        track_losses[epoch-1] = training_loss\n",
        "        if epoch % print_interval == 0:\n",
        "            print('epoch: %4d training loss:%10.3e time:%7.1f'%(epoch, training_loss, time.time()-start))\n",
        "\n",
        "    return network, track_losses"
      ]
    },
    {
      "cell_type": "code",
      "execution_count": 55,
      "metadata": {
        "colab": {
          "base_uri": "https://localhost:8080/"
        },
        "id": "6QX74yu0UKuD",
        "outputId": "ef121648-08c3-419b-9164-9f2eaa68b5c8",
        "scrolled": true
      },
      "outputs": [
        {
          "output_type": "stream",
          "name": "stdout",
          "text": [
            "epoch:   20 training loss: 3.244e-01 time:    1.4\n",
            "epoch:   40 training loss: 2.268e-01 time:    3.2\n",
            "epoch:   60 training loss: 1.715e-01 time:    4.9\n",
            "epoch:   80 training loss: 1.563e-01 time:    6.2\n",
            "epoch:  100 training loss: 2.144e-01 time:    7.6\n",
            "epoch:  120 training loss: 3.046e-01 time:    8.9\n",
            "epoch:  140 training loss: 2.081e-01 time:   10.2\n",
            "epoch:  160 training loss: 2.300e-01 time:   11.6\n",
            "epoch:  180 training loss: 2.016e-01 time:   12.9\n",
            "epoch:  200 training loss: 2.405e-01 time:   14.2\n",
            "epoch:  220 training loss: 1.823e-01 time:   15.8\n",
            "epoch:  240 training loss: 1.990e-01 time:   17.6\n",
            "epoch:  260 training loss: 1.931e-01 time:   19.1\n",
            "epoch:  280 training loss: 2.156e-01 time:   20.4\n",
            "epoch:  300 training loss: 2.297e-01 time:   21.8\n",
            "epoch:  320 training loss: 2.321e-01 time:   23.1\n",
            "epoch:  340 training loss: 1.911e-01 time:   24.5\n",
            "epoch:  360 training loss: 2.855e-01 time:   25.8\n",
            "epoch:  380 training loss: 2.094e-01 time:   27.2\n",
            "epoch:  400 training loss: 2.956e-01 time:   28.7\n",
            "epoch:  420 training loss: 2.808e-01 time:   30.5\n",
            "epoch:  440 training loss: 2.061e-01 time:   32.0\n",
            "epoch:  460 training loss: 1.697e-01 time:   33.4\n",
            "epoch:  480 training loss: 2.255e-01 time:   34.7\n",
            "epoch:  500 training loss: 3.293e-01 time:   36.0\n",
            "epoch:   20 training loss: 2.494e-01 time:    1.4\n",
            "epoch:   40 training loss: 2.457e-01 time:    2.7\n",
            "epoch:   60 training loss: 1.732e-01 time:    4.1\n",
            "epoch:   80 training loss: 3.253e-01 time:    5.5\n",
            "epoch:  100 training loss: 2.541e-01 time:    7.3\n",
            "epoch:  120 training loss: 2.010e-01 time:    9.0\n",
            "epoch:  140 training loss: 2.990e-01 time:   10.3\n",
            "epoch:  160 training loss: 1.719e-01 time:   11.6\n",
            "epoch:  180 training loss: 2.120e-01 time:   13.0\n",
            "epoch:  200 training loss: 2.411e-01 time:   14.3\n",
            "epoch:  220 training loss: 2.169e-01 time:   15.7\n",
            "epoch:  240 training loss: 2.897e-01 time:   17.0\n",
            "epoch:  260 training loss: 2.452e-01 time:   18.4\n",
            "epoch:  280 training loss: 2.410e-01 time:   20.1\n",
            "epoch:  300 training loss: 2.200e-01 time:   22.0\n",
            "epoch:  320 training loss: 3.281e-01 time:   23.3\n",
            "epoch:  340 training loss: 2.427e-01 time:   24.7\n",
            "epoch:  360 training loss: 1.760e-01 time:   26.1\n",
            "epoch:  380 training loss: 2.712e-01 time:   27.5\n",
            "epoch:  400 training loss: 1.802e-01 time:   28.8\n",
            "epoch:  420 training loss: 2.251e-01 time:   30.1\n",
            "epoch:  440 training loss: 2.076e-01 time:   31.5\n",
            "epoch:  460 training loss: 2.165e-01 time:   33.2\n",
            "epoch:  480 training loss: 3.249e-01 time:   35.0\n",
            "epoch:  500 training loss: 1.712e-01 time:   36.4\n"
          ]
        }
      ],
      "source": [
        "network_1, losses = train(X_train_tfidf, y_train, model_1, num_epochs, learning_rate, batch_size, criterion, print_interval)\n",
        "network_2, losses = train(X_train_tfidf, y_train, model_2, num_epochs, learning_rate, batch_size, criterion, print_interval)"
      ]
    },
    {
      "cell_type": "code",
      "execution_count": 46,
      "metadata": {
        "id": "ZI0XrYKIUKuD"
      },
      "outputs": [],
      "source": [
        "def model_eva(X_test_tfidf,y_test,model):\n",
        "    \n",
        "    X_test_tfidf = torch.tensor(scipy.sparse.csr_matrix.todense(X_test_tfidf)).float().cuda()\n",
        "    \n",
        "    y_pred=model(X_test_tfidf).cpu().detach().numpy().reshape(-1)\n",
        "    y_pred[y_pred>=0.5]=1.0\n",
        "    y_pred[y_pred<0.5]=0.0\n",
        "    \n",
        "    return accuracy_score(y_test, y_pred)"
      ]
    },
    {
      "cell_type": "code",
      "execution_count": 56,
      "metadata": {
        "id": "7Lr7_YWbUKuD"
      },
      "outputs": [],
      "source": [
        "accuracy_nn_1=model_eva(X_test_tfidf,y_test,model_1)\n",
        "accuracy_nn_2=model_eva(X_test_tfidf,y_test,model_2)"
      ]
    },
    {
      "cell_type": "code",
      "execution_count": 57,
      "metadata": {
        "colab": {
          "base_uri": "https://localhost:8080/"
        },
        "id": "odi5HZwKUKuD",
        "outputId": "63cda34f-4c3f-46ce-cc23-69300c8b62af"
      },
      "outputs": [
        {
          "output_type": "stream",
          "name": "stdout",
          "text": [
            "+--------------------------+----------+\n",
            "|          Model           | Accuracy |\n",
            "+--------------------------+----------+\n",
            "|         TFIDF-lr         |  0.783   |\n",
            "| Random Forest Classifier |  0.747   |\n",
            "| Decision Tree Classifier |  0.659   |\n",
            "|        TFIDF-NN_1        |  0.657   |\n",
            "|        TFIDF-NN_2        |  0.659   |\n",
            "+--------------------------+----------+\n"
          ]
        }
      ],
      "source": [
        "x.add_row(['TFIDF-NN_1',str(format(accuracy_nn_1,'.3f'))])\n",
        "x.add_row(['TFIDF-NN_2',str(format(accuracy_nn_2,'.3f'))])\n",
        "x.del_row(3)\n",
        "x.del_row(3)\n",
        "print(x)"
      ]
    },
    {
      "cell_type": "markdown",
      "metadata": {
        "id": "B8bYHhRjUKuD"
      },
      "source": [
        "## Question 5\n",
        "\n",
        "Design 2 different neural network structures and train them (e.g., different number of network layers, different number of neurons in hidden layers, different activation functions, etc.). Please report your results, you should be able to design one that is superior to `TFIDF-NN_1` and `TFIDF-NN_2`."
      ]
    },
    {
      "cell_type": "code",
      "execution_count": 62,
      "metadata": {
        "colab": {
          "base_uri": "https://localhost:8080/"
        },
        "id": "JLIn9C7UUKuD",
        "outputId": "11188753-d920-4edc-d792-177a14f23c78"
      },
      "outputs": [
        {
          "output_type": "stream",
          "name": "stdout",
          "text": [
            "epoch:   20 training loss: 4.290e-02 time:    2.0\n",
            "epoch:   40 training loss: 1.382e-02 time:    4.5\n",
            "epoch:   60 training loss: 1.224e-02 time:    6.3\n",
            "epoch:   80 training loss: 2.672e-02 time:    8.1\n",
            "epoch:  100 training loss: 2.520e-03 time:   10.0\n",
            "epoch:  120 training loss: 1.178e-02 time:   11.8\n",
            "epoch:  140 training loss: 3.497e-02 time:   13.7\n",
            "epoch:  160 training loss: 3.043e-03 time:   15.8\n",
            "epoch:  180 training loss: 9.351e-03 time:   18.2\n",
            "epoch:  200 training loss: 1.503e-03 time:   20.0\n",
            "epoch:  220 training loss: 9.887e-03 time:   21.8\n",
            "epoch:  240 training loss: 4.479e-03 time:   23.6\n",
            "epoch:  260 training loss: 2.639e-01 time:   25.5\n",
            "epoch:  280 training loss: 1.165e-03 time:   27.3\n",
            "epoch:  300 training loss: 1.531e-02 time:   29.6\n",
            "epoch:  320 training loss: 3.271e-02 time:   31.9\n",
            "epoch:  340 training loss: 2.757e-02 time:   33.7\n",
            "epoch:  360 training loss: 1.215e-03 time:   35.6\n",
            "epoch:  380 training loss: 2.548e-03 time:   37.4\n",
            "epoch:  400 training loss: 1.102e-03 time:   39.2\n",
            "epoch:  420 training loss: 3.553e-04 time:   41.1\n",
            "epoch:  440 training loss: 3.802e-03 time:   43.7\n",
            "epoch:  460 training loss: 5.506e-04 time:   45.9\n",
            "epoch:  480 training loss: 2.708e-01 time:   47.7\n",
            "epoch:  500 training loss: 7.395e-04 time:   49.6\n",
            "epoch:  520 training loss: 2.898e-03 time:   51.5\n",
            "epoch:  540 training loss: 6.484e-03 time:   53.3\n",
            "epoch:   20 training loss: 5.393e-02 time:    3.7\n",
            "epoch:   40 training loss: 1.145e-02 time:    5.6\n",
            "epoch:   60 training loss: 3.219e-02 time:    7.4\n",
            "epoch:   80 training loss: 2.709e-02 time:    9.2\n",
            "epoch:  100 training loss: 2.100e-03 time:   11.0\n",
            "epoch:  120 training loss: 2.818e-03 time:   12.9\n",
            "epoch:  140 training loss: 2.531e-02 time:   15.0\n",
            "epoch:  160 training loss: 9.010e-03 time:   17.4\n",
            "epoch:  180 training loss: 1.915e-01 time:   19.2\n",
            "epoch:  200 training loss: 4.217e-03 time:   21.0\n",
            "epoch:  220 training loss: 3.279e-02 time:   22.9\n",
            "epoch:  240 training loss: 4.384e-02 time:   24.7\n",
            "epoch:  260 training loss: 4.166e-03 time:   26.5\n",
            "epoch:  280 training loss: 8.862e-03 time:   28.8\n",
            "epoch:  300 training loss: 6.512e-03 time:   31.1\n",
            "epoch:  320 training loss: 1.161e-02 time:   32.9\n",
            "epoch:  340 training loss: 3.627e-02 time:   34.7\n",
            "epoch:  360 training loss: 2.568e-03 time:   36.5\n",
            "epoch:  380 training loss: 2.376e-02 time:   38.3\n",
            "epoch:  400 training loss: 1.350e-03 time:   40.0\n",
            "epoch:  420 training loss: 7.036e-03 time:   42.4\n",
            "epoch:  440 training loss: 5.582e-03 time:   44.6\n",
            "epoch:  460 training loss: 8.464e-03 time:   46.4\n",
            "epoch:  480 training loss: 1.391e-02 time:   48.3\n",
            "epoch:  500 training loss: 2.968e-03 time:   50.3\n",
            "epoch:  520 training loss: 1.529e-02 time:   52.2\n",
            "epoch:  540 training loss: 5.744e-03 time:   54.3\n"
          ]
        }
      ],
      "source": [
        "###Your code here###\n",
        "\n",
        "\n",
        "class mynetwork_3(nn.Module):\n",
        "    def __init__(self,in_dim):\n",
        "        super(mynetwork_3, self).__init__()\n",
        "        self.input_dim = in_dim\n",
        "        self.structure = nn.Sequential(\n",
        "            nn.Linear(self.input_dim,500),\n",
        "            nn.ReLU(),\n",
        "            nn.Linear(500,500),\n",
        "            nn.ReLU(),\n",
        "            nn.Linear(500, 1)\n",
        "        )\n",
        "\n",
        "    def forward(self, x):\n",
        "        x = self.structure(x)\n",
        "        return x\n",
        "\n",
        "class mynetwork_4(nn.Module):\n",
        "    def __init__(self,in_dim):\n",
        "        super(mynetwork_4, self).__init__()\n",
        "        self.input_dim = in_dim\n",
        "        self.structure = nn.Sequential(\n",
        "            nn.Linear(self.input_dim,500),\n",
        "            nn.ReLU(),\n",
        "            nn.Linear(500,500),\n",
        "            nn.ReLU(),\n",
        "            nn.Linear(500, 1)\n",
        "        )\n",
        "\n",
        "    def forward(self, x):\n",
        "        x = self.structure(x)\n",
        "        return x\n",
        "\n",
        "\n",
        "\n",
        "\n",
        "#Hint:\n",
        "'''\n",
        "class mynetwork_3(nn.Module):\n",
        "    def __init__(self,in_dim):\n",
        "        super(mynetwork_3, self).__init__()\n",
        "        self.input_dim = in_dim\n",
        "        self.structure = nn.Sequential(\n",
        "            nn.Linear(self.input_dim,500),\n",
        "            nn.ReLU(),\n",
        "            nn.Linear(500,500),\n",
        "            nn.ReLU(),\n",
        "            nn.Linear(500, 1)\n",
        "        )\n",
        "\n",
        "    def forward(self, x):\n",
        "        x = self.structure(x)\n",
        "        return x\n",
        "'''\n",
        "\n",
        "\n",
        "model_3 = mynetwork_3(in_dim).cuda()\n",
        "model_4 = mynetwork_4(in_dim).cuda()\n",
        "\n",
        "network_3, losses = train(X_train_tfidf, y_train, model_3, num_epochs, learning_rate, batch_size, criterion, print_interval)\n",
        "network_4, losses = train(X_train_tfidf, y_train, model_4, num_epochs, learning_rate, batch_size, criterion, print_interval)\n",
        "\n"
      ]
    },
    {
      "cell_type": "code",
      "execution_count": 65,
      "metadata": {
        "id": "DWHLEWyQUKuD"
      },
      "outputs": [],
      "source": [
        "accuracy_nn_3=model_eva(X_test_tfidf,y_test,model_3)\n",
        "accuracy_nn_4=model_eva(X_test_tfidf,y_test,model_4)\n",
        "\n",
        "x.add_row(['My NN model 1',str(format(accuracy_nn_3,'.3f'))])\n",
        "x.add_row(['My NN model 2',str(format(accuracy_nn_2,'.3f'))])\n"
      ]
    },
    {
      "cell_type": "code",
      "execution_count": 67,
      "metadata": {
        "colab": {
          "base_uri": "https://localhost:8080/"
        },
        "id": "yrhR_huNUKuE",
        "outputId": "d4fdda68-1b89-4080-87a3-9609937dcf1b"
      },
      "outputs": [
        {
          "output_type": "stream",
          "name": "stdout",
          "text": [
            "+--------------------------+----------+\n",
            "|          Model           | Accuracy |\n",
            "+--------------------------+----------+\n",
            "|         TFIDF-lr         |  0.783   |\n",
            "| Random Forest Classifier |  0.747   |\n",
            "| Decision Tree Classifier |  0.659   |\n",
            "|        TFIDF-NN_1        |  0.657   |\n",
            "|        TFIDF-NN_2        |  0.659   |\n",
            "|      My NN model 1       |  0.733   |\n",
            "|      My NN model 2       |  0.659   |\n",
            "+--------------------------+----------+\n"
          ]
        }
      ],
      "source": [
        "x.del_row(5)\n",
        "x.del_row(5)\n",
        "print (x)"
      ]
    },
    {
      "cell_type": "code",
      "execution_count": null,
      "metadata": {
        "id": "fHkXHT7nUKuE"
      },
      "outputs": [],
      "source": []
    }
  ],
  "metadata": {
    "accelerator": "GPU",
    "colab": {
      "provenance": [],
      "collapsed_sections": [
        "iQNCaVCHUKuB"
      ]
    },
    "gpuClass": "standard",
    "kernelspec": {
      "display_name": "Python 3 (ipykernel)",
      "language": "python",
      "name": "python3"
    },
    "language_info": {
      "codemirror_mode": {
        "name": "ipython",
        "version": 3
      },
      "file_extension": ".py",
      "mimetype": "text/x-python",
      "name": "python",
      "nbconvert_exporter": "python",
      "pygments_lexer": "ipython3",
      "version": "3.9.13"
    }
  },
  "nbformat": 4,
  "nbformat_minor": 0
}